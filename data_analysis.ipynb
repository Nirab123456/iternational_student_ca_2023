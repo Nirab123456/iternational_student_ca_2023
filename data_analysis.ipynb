{
 "cells": [
  {
   "cell_type": "code",
   "execution_count": 1,
   "metadata": {},
   "outputs": [],
   "source": [
    "import pandas as pd\n",
    "import numpy as np\n",
    "import matplotlib.pyplot as plt\n",
    "int_stu_count_df = pd.read_csv('data/Internation_students_Canada.csv')\n",
    "int_stu_pro_df = pd.read_csv('data/Internation_students_Province_Canada.csv')\n",
    "int_stu_stu_lev_def = pd.read_csv('data/International_students_Study_Level.csv')\n",
    "\n",
    "#convert the strings to lower case\n",
    "int_stu_count_df.columns = int_stu_count_df.columns.str.lower()\n",
    "int_stu_pro_df.columns = int_stu_pro_df.columns.str.lower()\n",
    "int_stu_stu_lev_def.columns = int_stu_stu_lev_def.columns.str.lower()\n",
    "#lower case the country of citizenship\n",
    "int_stu_count_df['country of citizenship'] = int_stu_count_df['country of citizenship'].str.lower()\n",
    "#lower case the province/territory\n",
    "int_stu_pro_df['province/territory'] = int_stu_pro_df['province/territory'].str.lower()\n",
    "#lower case the province/territory\n",
    "int_stu_stu_lev_def['province/territory'] = int_stu_stu_lev_def['province/territory'].str.lower()\n",
    "#lower case the study level\n",
    "int_stu_stu_lev_def['study level'] = int_stu_stu_lev_def['study level'].str.lower()\n",
    "#renme country of citizenship to country\n",
    "int_stu_count_df = int_stu_count_df.rename(columns = {'country of citizenship':'country'})\n",
    "#rename Province/territory to province\n",
    "int_stu_pro_df = int_stu_pro_df.rename(columns = {'province/territory':'province'})\n",
    "#rename Province/territory , study level to province\n",
    "int_stu_stu_lev_def = int_stu_stu_lev_def.rename(columns = {'province/territory':'province'})\n",
    "int_stu_stu_lev_def = int_stu_stu_lev_def.rename(columns = {'study level':'study'})\n",
    "\n",
    "\n",
    "for i in range(2016,2024):\n",
    "    #convert everything to numeric\n",
    "    int_stu_count_df[str(i)] = pd.to_numeric(int_stu_count_df[str(i)])\n",
    "    int_stu_pro_df[str(i)] = int_stu_pro_df[str(i)].str.replace(',', '')\n",
    "    int_stu_pro_df[str(i)] = pd.to_numeric(int_stu_pro_df[str(i)])\n",
    "    int_stu_stu_lev_def[str(i)] = pd.to_numeric(int_stu_stu_lev_def[str(i)])\n"
   ]
  },
  {
   "cell_type": "code",
   "execution_count": 4,
   "metadata": {},
   "outputs": [
    {
     "name": "stderr",
     "output_type": "stream",
     "text": [
      "C:\\Users\\rifat\\AppData\\Local\\Temp\\ipykernel_14296\\1687793742.py:7: FutureWarning: Downcasting behavior in `replace` is deprecated and will be removed in a future version. To retain the old behavior, explicitly call `result.infer_objects(copy=False)`. To opt-in to the future behavior, set `pd.set_option('future.no_silent_downcasting', True)`\n",
      "  int_stu_stu_lev_def['study'] = int_stu_stu_lev_def['study'].replace('other studies',3)\n"
     ]
    },
    {
     "data": {
      "text/plain": [
       "array([1, 2, 3, 0], dtype=int64)"
      ]
     },
     "execution_count": 4,
     "metadata": {},
     "output_type": "execute_result"
    }
   ],
   "source": [
    "int_stu_stu_lev_def['study'].unique()\n",
    "#array(['secondary or less', 'post secondary', 'other studies','education level not stated'], dtype=object)\n",
    "#assign 0 to education level not stated , 1 to secondary or less, 2 to post secondary, 3 to other studies\n",
    "int_stu_stu_lev_def['study'] = int_stu_stu_lev_def['study'].replace('education level not stated',0)\n",
    "int_stu_stu_lev_def['study'] = int_stu_stu_lev_def['study'].replace('secondary or less',1)\n",
    "int_stu_stu_lev_def['study'] = int_stu_stu_lev_def['study'].replace('post secondary',2)\n",
    "int_stu_stu_lev_def['study'] = int_stu_stu_lev_def['study'].replace('other studies',3)\n",
    "int_stu_stu_lev_def['study'].unique()\n",
    "\n"
   ]
  },
  {
   "cell_type": "code",
   "execution_count": 8,
   "metadata": {},
   "outputs": [
    {
     "name": "stderr",
     "output_type": "stream",
     "text": [
      "C:\\Users\\rifat\\AppData\\Local\\Temp\\ipykernel_14296\\724010905.py:16: FutureWarning: Downcasting behavior in `replace` is deprecated and will be removed in a future version. To retain the old behavior, explicitly call `result.infer_objects(copy=False)`. To opt-in to the future behavior, set `pd.set_option('future.no_silent_downcasting', True)`\n",
      "  int_stu_stu_lev_def['province'] = int_stu_stu_lev_def['province'].replace('nunavut',12)\n"
     ]
    }
   ],
   "source": [
    "int_stu_stu_lev_def['province'].unique()\n",
    "#array(['newfoundland and labrador', 'prince edward island', 'nova scotia','new brunswick', 'quebec', 'ontario', 'manitoba', 'saskatchewan','alberta', 'british columbia', 'yukon', 'northwest territories','nunavut'], dtype=object)\n",
    "#assign 0 to newfoundland and labrador, 1 to prince edward island, 2 to nova scotia, 3 to new brunswick, 4 to quebec, 5 to ontario, 6 to manitoba, 7 to saskatchewan, 8 to alberta, 9 to british columbia, 10 to yukon, 11 to northwest territories, 12 to nunavut\n",
    "int_stu_stu_lev_def['province'] = int_stu_stu_lev_def['province'].replace('newfoundland and labrador',0)\n",
    "int_stu_stu_lev_def['province'] = int_stu_stu_lev_def['province'].replace('prince edward island',1)\n",
    "int_stu_stu_lev_def['province'] = int_stu_stu_lev_def['province'].replace('nova scotia',2)\n",
    "int_stu_stu_lev_def['province'] = int_stu_stu_lev_def['province'].replace('new brunswick',3)\n",
    "int_stu_stu_lev_def['province'] = int_stu_stu_lev_def['province'].replace('quebec',4)\n",
    "int_stu_stu_lev_def['province'] = int_stu_stu_lev_def['province'].replace('ontario',5)\n",
    "int_stu_stu_lev_def['province'] = int_stu_stu_lev_def['province'].replace('manitoba',6)\n",
    "int_stu_stu_lev_def['province'] = int_stu_stu_lev_def['province'].replace('saskatchewan',7)\n",
    "int_stu_stu_lev_def['province'] = int_stu_stu_lev_def['province'].replace('alberta',8)\n",
    "int_stu_stu_lev_def['province'] = int_stu_stu_lev_def['province'].replace('british columbia',9)\n",
    "int_stu_stu_lev_def['province'] = int_stu_stu_lev_def['province'].replace('yukon',10)\n",
    "int_stu_stu_lev_def['province'] = int_stu_stu_lev_def['province'].replace('northwest territories',11)\n",
    "int_stu_stu_lev_def['province'] = int_stu_stu_lev_def['province'].replace('nunavut',12)\n",
    "int_stu_stu_lev_def['province'].unique()\n",
    "#array([ 0,  1,  2,  3,  4,  5,  6,  7,  8,  9, 10, 11, 12])\n",
    "int_stu_stu_lev_def.to_csv('new_data/International_students_Study_Level.csv',index=False)\n",
    "provience_mappping = pd.DataFrame({'province': ['newfoundland and labrador', 'prince edward island', 'nova scotia','new brunswick', 'quebec', 'ontario', 'manitoba', 'saskatchewan','alberta', 'british columbia', 'yukon', 'northwest territories','nunavut'],'province_code': [0, 1, 2, 3, 4, 5, 6, 7, 8, 9, 10, 11, 12]})\n",
    "provience_mappping.to_csv('new_data/provience_mappping.csv',index=False)"
   ]
  },
  {
   "cell_type": "code",
   "execution_count": 6,
   "metadata": {},
   "outputs": [],
   "source": [
    "#save the maping to a csv file and map\n",
    "# !mkdir new_data\n",
    "int_stu_stu_lev_def.to_csv('new_data/International_students_Study_Level.csv',index=False)\n",
    "maping = pd.DataFrame({'study':['education level not stated','secondary or less','post secondary','other studies'],'value':[0,1,2,3]})\n",
    "maping.to_csv('new_data/International_students_Study_Level_map.csv',index=False)\n"
   ]
  }
 ],
 "metadata": {
  "kernelspec": {
   "display_name": "tf",
   "language": "python",
   "name": "python3"
  },
  "language_info": {
   "codemirror_mode": {
    "name": "ipython",
    "version": 3
   },
   "file_extension": ".py",
   "mimetype": "text/x-python",
   "name": "python",
   "nbconvert_exporter": "python",
   "pygments_lexer": "ipython3",
   "version": "3.9.18"
  }
 },
 "nbformat": 4,
 "nbformat_minor": 2
}
